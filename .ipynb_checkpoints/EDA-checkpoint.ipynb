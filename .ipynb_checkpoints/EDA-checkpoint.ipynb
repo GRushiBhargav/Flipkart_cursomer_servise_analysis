{
 "cells": [
  {
   "cell_type": "markdown",
   "id": "c6d4e132-f32d-40d7-9b3f-ae5e4fa3a786",
   "metadata": {
    "jp-MarkdownHeadingCollapsed": true
   },
   "source": [
    "# **Project Name:- Flipkart Customer Service Satisfaction**    \n",
    "\n"
   ]
  },
  {
   "cell_type": "markdown",
   "id": "4570a98a-d2d7-4ea0-a86c-1b72ffe44c5e",
   "metadata": {},
   "source": [
    "# **Project Type - Classification**\n"
   ]
  },
  {
   "cell_type": "markdown",
   "id": "594e320d-4687-4be5-bcaf-1dc796828b74",
   "metadata": {},
   "source": [
    "**Contribution - Individual**"
   ]
  },
  {
   "cell_type": "markdown",
   "id": "71636301-436c-47c2-a496-58e257539372",
   "metadata": {},
   "source": [
    "**Project Summary -**"
   ]
  },
  {
   "cell_type": "markdown",
   "id": "0911f6ef-1ddb-472f-a74a-16f85111e255",
   "metadata": {},
   "source": [
    "**GitHub Link -**"
   ]
  },
  {
   "cell_type": "markdown",
   "id": "bfd581c4-2892-4268-a6cf-d73ca0c10832",
   "metadata": {},
   "source": [
    "**Problem Statement : Flipkart currently lacks clear insights into the factors that drive customer satisfaction across its different support channels and service teams. This makes it difficult to identify weak points in customer service, optimize agent performance, and design strategies that improve CSAT scores, customer loyalty, and retention.**"
   ]
  },
  {
   "cell_type": "markdown",
   "id": "fd7c6a3a-0008-4bd3-94dc-5df444d5e38c",
   "metadata": {},
   "source": [
    "**Define Your Business Objective: The objective is to improve customer satisfaction (CSAT) by identifying the key factors that influence satisfaction levels across Flipkart’s customer support channels**"
   ]
  },
  {
   "cell_type": "markdown",
   "id": "60cf070d-e865-4a48-95f7-d11657b9288b",
   "metadata": {},
   "source": [
    "## ***1. Know Your Data***"
   ]
  },
  {
   "cell_type": "code",
   "execution_count": 277,
   "id": "8d696b5d-9f9e-4bee-8902-8056c9959bd9",
   "metadata": {},
   "outputs": [],
   "source": [
    "# importing Libraries\n",
    "import pandas as pd\n",
    "import numpy as np\n",
    "import seaborn as sns\n",
    "import matplotlib.pyplot as plt\n",
    "import warnings\n",
    "warnings.filterwarnings(\"ignore\")"
   ]
  },
  {
   "cell_type": "code",
   "execution_count": 278,
   "id": "6d6cf0bb-9d88-48f4-960b-3f8f860fbfd8",
   "metadata": {},
   "outputs": [
    {
     "data": {
      "text/html": [
       "<div>\n",
       "<style scoped>\n",
       "    .dataframe tbody tr th:only-of-type {\n",
       "        vertical-align: middle;\n",
       "    }\n",
       "\n",
       "    .dataframe tbody tr th {\n",
       "        vertical-align: top;\n",
       "    }\n",
       "\n",
       "    .dataframe thead th {\n",
       "        text-align: right;\n",
       "    }\n",
       "</style>\n",
       "<table border=\"1\" class=\"dataframe\">\n",
       "  <thead>\n",
       "    <tr style=\"text-align: right;\">\n",
       "      <th></th>\n",
       "      <th>Unique id</th>\n",
       "      <th>channel_name</th>\n",
       "      <th>category</th>\n",
       "      <th>Sub-category</th>\n",
       "      <th>Customer Remarks</th>\n",
       "      <th>Order_id</th>\n",
       "      <th>order_date_time</th>\n",
       "      <th>Issue_reported at</th>\n",
       "      <th>issue_responded</th>\n",
       "      <th>Survey_response_Date</th>\n",
       "      <th>Customer_City</th>\n",
       "      <th>Product_category</th>\n",
       "      <th>Item_price</th>\n",
       "      <th>connected_handling_time</th>\n",
       "      <th>Agent_name</th>\n",
       "      <th>Supervisor</th>\n",
       "      <th>Manager</th>\n",
       "      <th>Tenure Bucket</th>\n",
       "      <th>Agent Shift</th>\n",
       "      <th>CSAT Score</th>\n",
       "    </tr>\n",
       "  </thead>\n",
       "  <tbody>\n",
       "    <tr>\n",
       "      <th>0</th>\n",
       "      <td>7e9ae164-6a8b-4521-a2d4-58f7c9fff13f</td>\n",
       "      <td>Outcall</td>\n",
       "      <td>Product Queries</td>\n",
       "      <td>Life Insurance</td>\n",
       "      <td>NaN</td>\n",
       "      <td>c27c9bb4-fa36-4140-9f1f-21009254ffdb</td>\n",
       "      <td>NaN</td>\n",
       "      <td>01/08/2023 11:13</td>\n",
       "      <td>01/08/2023 11:47</td>\n",
       "      <td>01-Aug-23</td>\n",
       "      <td>NaN</td>\n",
       "      <td>NaN</td>\n",
       "      <td>NaN</td>\n",
       "      <td>NaN</td>\n",
       "      <td>Richard Buchanan</td>\n",
       "      <td>Mason Gupta</td>\n",
       "      <td>Jennifer Nguyen</td>\n",
       "      <td>On Job Training</td>\n",
       "      <td>Morning</td>\n",
       "      <td>5</td>\n",
       "    </tr>\n",
       "    <tr>\n",
       "      <th>1</th>\n",
       "      <td>b07ec1b0-f376-43b6-86df-ec03da3b2e16</td>\n",
       "      <td>Outcall</td>\n",
       "      <td>Product Queries</td>\n",
       "      <td>Product Specific Information</td>\n",
       "      <td>NaN</td>\n",
       "      <td>d406b0c7-ce17-4654-b9de-f08d421254bd</td>\n",
       "      <td>NaN</td>\n",
       "      <td>01/08/2023 12:52</td>\n",
       "      <td>01/08/2023 12:54</td>\n",
       "      <td>01-Aug-23</td>\n",
       "      <td>NaN</td>\n",
       "      <td>NaN</td>\n",
       "      <td>NaN</td>\n",
       "      <td>NaN</td>\n",
       "      <td>Vicki Collins</td>\n",
       "      <td>Dylan Kim</td>\n",
       "      <td>Michael Lee</td>\n",
       "      <td>&gt;90</td>\n",
       "      <td>Morning</td>\n",
       "      <td>5</td>\n",
       "    </tr>\n",
       "    <tr>\n",
       "      <th>2</th>\n",
       "      <td>200814dd-27c7-4149-ba2b-bd3af3092880</td>\n",
       "      <td>Inbound</td>\n",
       "      <td>Order Related</td>\n",
       "      <td>Installation/demo</td>\n",
       "      <td>NaN</td>\n",
       "      <td>c273368d-b961-44cb-beaf-62d6fd6c00d5</td>\n",
       "      <td>NaN</td>\n",
       "      <td>01/08/2023 20:16</td>\n",
       "      <td>01/08/2023 20:38</td>\n",
       "      <td>01-Aug-23</td>\n",
       "      <td>NaN</td>\n",
       "      <td>NaN</td>\n",
       "      <td>NaN</td>\n",
       "      <td>NaN</td>\n",
       "      <td>Duane Norman</td>\n",
       "      <td>Jackson Park</td>\n",
       "      <td>William Kim</td>\n",
       "      <td>On Job Training</td>\n",
       "      <td>Evening</td>\n",
       "      <td>5</td>\n",
       "    </tr>\n",
       "  </tbody>\n",
       "</table>\n",
       "</div>"
      ],
      "text/plain": [
       "                              Unique id channel_name         category  \\\n",
       "0  7e9ae164-6a8b-4521-a2d4-58f7c9fff13f      Outcall  Product Queries   \n",
       "1  b07ec1b0-f376-43b6-86df-ec03da3b2e16      Outcall  Product Queries   \n",
       "2  200814dd-27c7-4149-ba2b-bd3af3092880      Inbound    Order Related   \n",
       "\n",
       "                   Sub-category Customer Remarks  \\\n",
       "0                Life Insurance              NaN   \n",
       "1  Product Specific Information              NaN   \n",
       "2             Installation/demo              NaN   \n",
       "\n",
       "                               Order_id order_date_time Issue_reported at  \\\n",
       "0  c27c9bb4-fa36-4140-9f1f-21009254ffdb             NaN  01/08/2023 11:13   \n",
       "1  d406b0c7-ce17-4654-b9de-f08d421254bd             NaN  01/08/2023 12:52   \n",
       "2  c273368d-b961-44cb-beaf-62d6fd6c00d5             NaN  01/08/2023 20:16   \n",
       "\n",
       "    issue_responded Survey_response_Date Customer_City Product_category  \\\n",
       "0  01/08/2023 11:47            01-Aug-23           NaN              NaN   \n",
       "1  01/08/2023 12:54            01-Aug-23           NaN              NaN   \n",
       "2  01/08/2023 20:38            01-Aug-23           NaN              NaN   \n",
       "\n",
       "   Item_price  connected_handling_time        Agent_name    Supervisor  \\\n",
       "0         NaN                      NaN  Richard Buchanan   Mason Gupta   \n",
       "1         NaN                      NaN     Vicki Collins     Dylan Kim   \n",
       "2         NaN                      NaN      Duane Norman  Jackson Park   \n",
       "\n",
       "           Manager    Tenure Bucket Agent Shift  CSAT Score  \n",
       "0  Jennifer Nguyen  On Job Training     Morning           5  \n",
       "1      Michael Lee              >90     Morning           5  \n",
       "2      William Kim  On Job Training     Evening           5  "
      ]
     },
     "execution_count": 278,
     "metadata": {},
     "output_type": "execute_result"
    }
   ],
   "source": [
    "# Load Dataset\n",
    "data = pd.read_csv(\"Customer_support_data.csv\")\n",
    "# displaying first 3 rows of data set \n",
    "data.head(3)"
   ]
  },
  {
   "cell_type": "code",
   "execution_count": 279,
   "id": "37f7b722-f452-46f1-8afe-b8c0be99aa42",
   "metadata": {},
   "outputs": [
    {
     "data": {
      "text/plain": [
       "(85907, 20)"
      ]
     },
     "execution_count": 279,
     "metadata": {},
     "output_type": "execute_result"
    }
   ],
   "source": [
    "# Dataset Rows & Columns count\n",
    "data.shape"
   ]
  },
  {
   "cell_type": "code",
   "execution_count": 280,
   "id": "520d2cb6-37af-4a0e-85bb-043d0ab723af",
   "metadata": {},
   "outputs": [
    {
     "data": {
      "text/plain": [
       "Unique id                   object\n",
       "channel_name                object\n",
       "category                    object\n",
       "Sub-category                object\n",
       "Customer Remarks            object\n",
       "Order_id                    object\n",
       "order_date_time             object\n",
       "Issue_reported at           object\n",
       "issue_responded             object\n",
       "Survey_response_Date        object\n",
       "Customer_City               object\n",
       "Product_category            object\n",
       "Item_price                 float64\n",
       "connected_handling_time    float64\n",
       "Agent_name                  object\n",
       "Supervisor                  object\n",
       "Manager                     object\n",
       "Tenure Bucket               object\n",
       "Agent Shift                 object\n",
       "CSAT Score                   int64\n",
       "dtype: object"
      ]
     },
     "execution_count": 280,
     "metadata": {},
     "output_type": "execute_result"
    }
   ],
   "source": [
    "# Dataset Info\n",
    "data.dtypes"
   ]
  },
  {
   "cell_type": "code",
   "execution_count": 281,
   "id": "bd1a9606-f932-4fda-8032-9300b021e931",
   "metadata": {},
   "outputs": [
    {
     "data": {
      "text/plain": [
       "np.int64(0)"
      ]
     },
     "execution_count": 281,
     "metadata": {},
     "output_type": "execute_result"
    }
   ],
   "source": [
    "#duplicates valus in each column \n",
    "data.duplicated(subset=\"Unique id\").sum()"
   ]
  },
  {
   "cell_type": "code",
   "execution_count": 282,
   "id": "4a92a837-49d9-4cd7-89e7-03ab9ab7d109",
   "metadata": {},
   "outputs": [
    {
     "data": {
      "text/plain": [
       "Unique id                      0\n",
       "channel_name                   0\n",
       "category                       0\n",
       "Sub-category                   0\n",
       "Customer Remarks           57165\n",
       "Order_id                   18232\n",
       "order_date_time            68693\n",
       "Issue_reported at              0\n",
       "issue_responded                0\n",
       "Survey_response_Date           0\n",
       "Customer_City              68828\n",
       "Product_category           68711\n",
       "Item_price                 68701\n",
       "connected_handling_time    85665\n",
       "Agent_name                     0\n",
       "Supervisor                     0\n",
       "Manager                        0\n",
       "Tenure Bucket                  0\n",
       "Agent Shift                    0\n",
       "CSAT Score                     0\n",
       "dtype: int64"
      ]
     },
     "execution_count": 282,
     "metadata": {},
     "output_type": "execute_result"
    }
   ],
   "source": [
    "# Missing Missing/Null Values Count\n",
    "data.isnull().sum()"
   ]
  },
  {
   "cell_type": "code",
   "execution_count": 283,
   "id": "3fca02ad-3539-4ae6-87e7-f9a1ad1b5b86",
   "metadata": {},
   "outputs": [
    {
     "data": {
      "image/png": "[encoded data removed]",
      "text/plain": [
       "<Figure size 600x300 with 1 Axes>"
      ]
     },
     "metadata": {},
     "output_type": "display_data"
    }
   ],
   "source": [
    "# Heat Map Representation of missing values\n",
    "plt.figure(figsize=(6, 3))\n",
    "sns.heatmap(data.isnull(), cbar=False, cmap='viridis')\n",
    "plt.title('Heatmap of Missing Values in the Dataset')\n",
    "plt.xlabel('Columns')\n",
    "plt.ylabel('Rows')\n",
    "plt.show()"
   ]
  },
  {
   "cell_type": "markdown",
   "id": "d1ce153e-8982-481f-9117-0bd6c9865f12",
   "metadata": {},
   "source": [
    "The data set contains 85,907 rows and 20 columns with no duplicate values in it"
   ]
  },
  {
   "cell_type": "markdown",
   "id": "ac468194-6c5d-4dac-8ad8-8daa2a8c9818",
   "metadata": {},
   "source": [
    "Furthermore, there are a few columns that contain missing values, for instance "
   ]
  },
  {
   "cell_type": "raw",
   "id": "58aee793-8eb1-4583-955c-7dbb9fc4ec6c",
   "metadata": {},
   "source": [
    "Customer Remarks           57165\n",
    "Order_id                   18232\n",
    "order_date_time            68693\n",
    "Customer_City              68828\n",
    "Product_category           68711\n",
    "Item_price                 68701\n",
    "connected_handling_time    85665"
   ]
  },
  {
   "cell_type": "markdown",
   "id": "075a626d-ca56-4df9-b67c-370636661a83",
   "metadata": {},
   "source": [
    "## ***2. Understanding Your Variables***"
   ]
  },
  {
   "cell_type": "code",
   "execution_count": 284,
   "id": "5c2c0bcb-c2c2-4e04-ba5c-e44b7f5b535c",
   "metadata": {},
   "outputs": [
    {
     "data": {
      "text/plain": [
       "Index(['Unique id', 'channel_name', 'category', 'Sub-category',\n",
       "       'Customer Remarks', 'Order_id', 'order_date_time', 'Issue_reported at',\n",
       "       'issue_responded', 'Survey_response_Date', 'Customer_City',\n",
       "       'Product_category', 'Item_price', 'connected_handling_time',\n",
       "       'Agent_name', 'Supervisor', 'Manager', 'Tenure Bucket', 'Agent Shift',\n",
       "       'CSAT Score'],\n",
       "      dtype='object')"
      ]
     },
     "execution_count": 284,
     "metadata": {},
     "output_type": "execute_result"
    }
   ],
   "source": [
    "# Dataset Columns\n",
    "data.columns"
   ]
  },
  {
   "cell_type": "code",
   "execution_count": 285,
   "id": "2199645b-24d8-43e4-85d8-d9a887bd2529",
   "metadata": {},
   "outputs": [
    {
     "data": {
      "text/html": [
       "<div>\n",
       "<style scoped>\n",
       "    .dataframe tbody tr th:only-of-type {\n",
       "        vertical-align: middle;\n",
       "    }\n",
       "\n",
       "    .dataframe tbody tr th {\n",
       "        vertical-align: top;\n",
       "    }\n",
       "\n",
       "    .dataframe thead th {\n",
       "        text-align: right;\n",
       "    }\n",
       "</style>\n",
       "<table border=\"1\" class=\"dataframe\">\n",
       "  <thead>\n",
       "    <tr style=\"text-align: right;\">\n",
       "      <th></th>\n",
       "      <th>Item_price</th>\n",
       "      <th>connected_handling_time</th>\n",
       "      <th>CSAT Score</th>\n",
       "    </tr>\n",
       "  </thead>\n",
       "  <tbody>\n",
       "    <tr>\n",
       "      <th>count</th>\n",
       "      <td>17206.000000</td>\n",
       "      <td>242.000000</td>\n",
       "      <td>85907.000000</td>\n",
       "    </tr>\n",
       "    <tr>\n",
       "      <th>mean</th>\n",
       "      <td>5660.774846</td>\n",
       "      <td>462.400826</td>\n",
       "      <td>4.242157</td>\n",
       "    </tr>\n",
       "    <tr>\n",
       "      <th>std</th>\n",
       "      <td>12825.728411</td>\n",
       "      <td>246.295037</td>\n",
       "      <td>1.378903</td>\n",
       "    </tr>\n",
       "    <tr>\n",
       "      <th>min</th>\n",
       "      <td>0.000000</td>\n",
       "      <td>0.000000</td>\n",
       "      <td>1.000000</td>\n",
       "    </tr>\n",
       "    <tr>\n",
       "      <th>25%</th>\n",
       "      <td>392.000000</td>\n",
       "      <td>293.000000</td>\n",
       "      <td>4.000000</td>\n",
       "    </tr>\n",
       "    <tr>\n",
       "      <th>50%</th>\n",
       "      <td>979.000000</td>\n",
       "      <td>427.000000</td>\n",
       "      <td>5.000000</td>\n",
       "    </tr>\n",
       "    <tr>\n",
       "      <th>75%</th>\n",
       "      <td>2699.750000</td>\n",
       "      <td>592.250000</td>\n",
       "      <td>5.000000</td>\n",
       "    </tr>\n",
       "    <tr>\n",
       "      <th>max</th>\n",
       "      <td>164999.000000</td>\n",
       "      <td>1986.000000</td>\n",
       "      <td>5.000000</td>\n",
       "    </tr>\n",
       "  </tbody>\n",
       "</table>\n",
       "</div>"
      ],
      "text/plain": [
       "          Item_price  connected_handling_time    CSAT Score\n",
       "count   17206.000000               242.000000  85907.000000\n",
       "mean     5660.774846               462.400826      4.242157\n",
       "std     12825.728411               246.295037      1.378903\n",
       "min         0.000000                 0.000000      1.000000\n",
       "25%       392.000000               293.000000      4.000000\n",
       "50%       979.000000               427.000000      5.000000\n",
       "75%      2699.750000               592.250000      5.000000\n",
       "max    164999.000000              1986.000000      5.000000"
      ]
     },
     "execution_count": 285,
     "metadata": {},
     "output_type": "execute_result"
    }
   ],
   "source": [
    "# Dataset Describe\n",
    "data.describe()"
   ]
  },
  {
   "cell_type": "markdown",
   "id": "cd1e382b-d240-4a94-84a6-3d7ffd2dfbb6",
   "metadata": {},
   "source": [
    "Variables Description"
   ]
  },
  {
   "cell_type": "raw",
   "id": "8473b7d0-bb2c-472b-a741-040b5dbac5a8",
   "metadata": {},
   "source": [
    "Unique id: A unique identifier for each customer interaction or query.\n",
    "channel_name: The customer support channel through which the interaction occurred (e.g., Inbound, Outcall, Email).\n",
    "category: The primary category of the customer's query (e.g., Returns, Order Related, Product Queries).\n",
    "Sub-category: A more specific breakdown of the customer's query within the main category.\n",
    "Customer Remarks: Textual feedback or comments provided by the customer regarding their experience.\n",
    "Order_id: The unique identifier for the customer's order, if the query is order-related.\n",
    "order_date_time: The date and time when the order was placed by the customer.\n",
    "Issue_reported at: The date and time the customer's issue was officially reported.\n",
    "issue_responded: The date and time the customer's issue was responded to by an agent.\n",
    "Survey_response_Date: The date on which the customer responded to the satisfaction survey.\n",
    "Customer_City: The city of the customer who raised the query.\n",
    "Product_category: The category of the product associated with the customer's order.\n",
    "Item_price: The price of the product associated with the customer's order.\n",
    "connected_handling_time: The duration (in minutes) an agent spent handling the customer's query.\n",
    "Agent_name: The name of the customer service agent who handled the query.\n",
    "Supervisor: The name of the agent's supervisor.\n",
    "Manager: The name of the manager overseeing the team.\n",
    "Tenure Bucket: The experience level or tenure of the agent.\n",
    "Agent Shift: The work shift of the agent who handled the query (e.g., Morning, Evening, Split).\n",
    "CSAT Score: The Customer Satisfaction score provided by the customer for the interaction."
   ]
  },
  {
   "cell_type": "code",
   "execution_count": 286,
   "id": "839f5799-e1c7-4ab8-ae5c-291fd52e74f0",
   "metadata": {},
   "outputs": [
    {
     "data": {
      "text/plain": [
       "Unique id                  85907\n",
       "channel_name                   3\n",
       "category                      12\n",
       "Sub-category                  57\n",
       "Customer Remarks           18231\n",
       "Order_id                   67675\n",
       "order_date_time            13766\n",
       "Issue_reported at          30923\n",
       "issue_responded            30262\n",
       "Survey_response_Date          31\n",
       "Customer_City               1782\n",
       "Product_category               9\n",
       "Item_price                  2789\n",
       "connected_handling_time      211\n",
       "Agent_name                  1371\n",
       "Supervisor                    40\n",
       "Manager                        6\n",
       "Tenure Bucket                  5\n",
       "Agent Shift                    5\n",
       "CSAT Score                     5\n",
       "dtype: int64"
      ]
     },
     "execution_count": 286,
     "metadata": {},
     "output_type": "execute_result"
    }
   ],
   "source": [
    "# Check Unique Values for each variable.\n",
    "data.nunique()"
   ]
  },
  {
   "cell_type": "markdown",
   "id": "bc31e5dd-4118-493b-bccb-cb003c692084",
   "metadata": {},
   "source": [
    "## 3. ***Data Wrangling***"
   ]
  },
  {
   "cell_type": "markdown",
   "id": "6b849082-6abe-481f-86fa-d7f8e8a498c2",
   "metadata": {},
   "source": [
    "Before proceeding further, we need to handle these Missing Values and convert date and time from object to date and time"
   ]
  },
  {
   "cell_type": "markdown",
   "id": "3084a871-4f72-49f7-8f28-cc9ef92001c6",
   "metadata": {},
   "source": [
    "Customer Remarks, Customer_City, Product_category, can be filled with a new category, such as 'Unknown' or 'No Comment ', as it prevents data loss and treats the missingness as a distinct, meaningful category. "
   ]
  },
  {
   "cell_type": "markdown",
   "id": "bad90d81-407a-450a-ad4f-fbd6cce1777e",
   "metadata": {},
   "source": [
    "connected_handling_time is to re-calculate it using the difference between the Issue_reported and issue_responded columns"
   ]
  },
  {
   "cell_type": "code",
   "execution_count": 289,
   "id": "6aeadbbb-253d-406b-b68d-4a4b06763dc7",
   "metadata": {},
   "outputs": [],
   "source": [
    "# converting object type to date and time \n",
    "data['Issue_reported at'] = pd.to_datetime(data['Issue_reported at'], format='%d/%m/%Y %H:%M')\n",
    "data['issue_responded'] = pd.to_datetime(data['issue_responded'], format='%d/%m/%Y %H:%M')\n",
    "# Split the 'Issue_reported at' column into separate date and time columns\n",
    "data['issue_reported_date'] = data['Issue_reported at'].dt.date\n",
    "data['issue_reported_time'] = data['Issue_reported at'].dt.time\n",
    "\n",
    "# Split the 'issue_responded' column into separate date and time columns\n",
    "data['issue_responded_date'] = data['issue_responded'].dt.date\n",
    "data['issue_responded_time'] = data['issue_responded'].dt.time\n",
    "\n",
    "# Calculate 'connected_handling_time' by finding the difference in minutes\n",
    "data['connected_handling_time'] = (data['issue_responded'] - data['Issue_reported at']).dt.total_seconds() / 60\n",
    "\n",
    "# Fill missing values for the newly calculated column\n",
    "#data['connected_handling_time'].fillna(data['connected_handling_time'].median(), inplace=True)\n"
   ]
  },
  {
   "cell_type": "code",
   "execution_count": null,
   "id": "2786e41c-f5a5-4de9-9151-6c050430e1ae",
   "metadata": {},
   "outputs": [],
   "source": [
    "# Handling the missing values\n",
    "# Fill missing categorical values with a new category\n",
    "data['Customer Remarks'].fillna('No Comment',inplace=True)\n",
    "data['Customer_City'].fillna('Unknown',inplace=True)\n",
    "data['Product_category'].fillna('Unknown',inplace=True)\n",
    "# Fill missing numerical values with 0\n",
    "data['Item_price'].fillna(0,inplace=True)\n",
    "data['connected_handling_time'] = (data['issue_responded'] - data['Issue_reported at']).dt.total_seconds() / 60\n",
    "data['connected_handling_time'].fillna(data['connected_handling_time'].median(), inplace=True)"
   ]
  },
  {
   "cell_type": "markdown",
   "id": "ca58cd0e-db43-4e22-a896-dfd8af875261",
   "metadata": {},
   "source": [
    "## ***4. Data Vizualization, Storytelling & Experimenting with charts : Understand the relationships between variables***"
   ]
  },
  {
   "cell_type": "code",
   "execution_count": null,
   "id": "ffc23119-f975-4067-8ea7-e6b2186a02a8",
   "metadata": {},
   "outputs": [],
   "source": [
    "#Corelation between numeric Variablesabs\n",
    "data.corr(numeric_only=True)"
   ]
  },
  {
   "cell_type": "code",
   "execution_count": null,
   "id": "61db81c3-33a0-4ec8-95ad-002a73474c7f",
   "metadata": {},
   "outputs": [],
   "source": [
    "data.to_csv(\"Cleaned_Customer_support_data.csv\")"
   ]
  },
  {
   "cell_type": "code",
   "execution_count": null,
   "id": "330416ce-47aa-4093-8a0c-92912c5582f9",
   "metadata": {},
   "outputs": [],
   "source": []
  }
 ],
 "metadata": {
  "kernelspec": {
   "display_name": "Python 3 (ipykernel)",
   "language": "python",
   "name": "python3"
  },
  "language_info": {
   "codemirror_mode": {
    "name": "ipython",
    "version": 3
   },
   "file_extension": ".py",
   "mimetype": "text/x-python",
   "name": "python",
   "nbconvert_exporter": "python",
   "pygments_lexer": "ipython3",
   "version": "3.13.6"
  }
 },
 "nbformat": 4,
 "nbformat_minor": 5
}
